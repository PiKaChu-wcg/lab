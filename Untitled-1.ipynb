{
 "cells": [
  {
   "cell_type": "code",
   "execution_count": 1,
   "source": [
    "import torch.nn.functional as F"
   ],
   "outputs": [],
   "metadata": {}
  },
  {
   "cell_type": "code",
   "execution_count": 5,
   "source": [
    "import torch"
   ],
   "outputs": [],
   "metadata": {}
  },
  {
   "cell_type": "code",
   "execution_count": 7,
   "source": [
    "help(F.ctc_loss)"
   ],
   "outputs": [
    {
     "output_type": "stream",
     "name": "stdout",
     "text": [
      "Help on function ctc_loss in module torch.nn.functional:\n",
      "\n",
      "ctc_loss(log_probs: torch.Tensor, targets: torch.Tensor, input_lengths: torch.Tensor, target_lengths: torch.Tensor, blank: int = 0, reduction: str = 'mean', zero_infinity: bool = False) -> torch.Tensor\n",
      "    The Connectionist Temporal Classification loss.\n",
      "    \n",
      "    See :class:`~torch.nn.CTCLoss` for details.\n",
      "    \n",
      "    Note:\n",
      "        In some circumstances when given tensors on a CUDA device and using CuDNN, this operator may select a nondeterministic algorithm to increase performance. If this is undesirable, you can try to make the operation deterministic (potentially at a performance cost) by setting ``torch.backends.cudnn.deterministic = True``. See :doc:`/notes/randomness` for more information.\n",
      "    \n",
      "    Note:\n",
      "        This operation may produce nondeterministic gradients when given tensors on a CUDA device. See :doc:`/notes/randomness` for more information.\n",
      "    \n",
      "    Args:\n",
      "        log_probs: :math:`(T, N, C)` where `C = number of characters in alphabet including blank`,\n",
      "            `T = input length`, and `N = batch size`.\n",
      "            The logarithmized probabilities of the outputs\n",
      "            (e.g. obtained with :func:`torch.nn.functional.log_softmax`).\n",
      "        targets: :math:`(N, S)` or `(sum(target_lengths))`.\n",
      "            Targets cannot be blank. In the second form, the targets are assumed to be concatenated.\n",
      "        input_lengths: :math:`(N)`.\n",
      "            Lengths of the inputs (must each be :math:`\\leq T`)\n",
      "        target_lengths: :math:`(N)`.\n",
      "            Lengths of the targets\n",
      "        blank (int, optional):\n",
      "            Blank label. Default :math:`0`.\n",
      "        reduction (string, optional): Specifies the reduction to apply to the output:\n",
      "            ``'none'`` | ``'mean'`` | ``'sum'``. ``'none'``: no reduction will be applied,\n",
      "            ``'mean'``: the output losses will be divided by the target lengths and\n",
      "            then the mean over the batch is taken, ``'sum'``: the output will be\n",
      "            summed. Default: ``'mean'``\n",
      "        zero_infinity (bool, optional):\n",
      "            Whether to zero infinite losses and the associated gradients.\n",
      "            Default: ``False``\n",
      "            Infinite losses mainly occur when the inputs are too short\n",
      "            to be aligned to the targets.\n",
      "    \n",
      "    Example::\n",
      "    \n",
      "        >>> log_probs = torch.randn(50, 16, 20).log_softmax(2).detach().requires_grad_()\n",
      "        >>> targets = torch.randint(1, 20, (16, 30), dtype=torch.long)\n",
      "        >>> input_lengths = torch.full((16,), 50, dtype=torch.long)\n",
      "        >>> target_lengths = torch.randint(10,30,(16,), dtype=torch.long)\n",
      "        >>> loss = F.ctc_loss(log_probs, targets, input_lengths, target_lengths)\n",
      "        >>> loss.backward()\n",
      "\n"
     ]
    }
   ],
   "metadata": {}
  },
  {
   "cell_type": "code",
   "execution_count": null,
   "source": [],
   "outputs": [],
   "metadata": {}
  }
 ],
 "metadata": {
  "orig_nbformat": 4,
  "language_info": {
   "name": "python",
   "version": "3.9.5",
   "mimetype": "text/x-python",
   "codemirror_mode": {
    "name": "ipython",
    "version": 3
   },
   "pygments_lexer": "ipython3",
   "nbconvert_exporter": "python",
   "file_extension": ".py"
  },
  "kernelspec": {
   "name": "python3",
   "display_name": "Python 3.9.5 64-bit ('base': conda)"
  },
  "interpreter": {
   "hash": "46ee995ac76568b4a7a52b55a60402253a13c3bb0f71ad853a854b563c93b412"
  }
 },
 "nbformat": 4,
 "nbformat_minor": 2
}